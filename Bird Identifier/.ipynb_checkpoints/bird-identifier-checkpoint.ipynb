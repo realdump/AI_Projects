{
 "cells": [
  {
   "cell_type": "code",
   "execution_count": 5,
   "id": "94e9b361-f892-42c4-a576-9d0b835abf71",
   "metadata": {},
   "outputs": [
    {
     "name": "stderr",
     "output_type": "stream",
     "text": [
      "<>:5: SyntaxWarning: invalid escape sequence '\\s'\n",
      "<>:5: SyntaxWarning: invalid escape sequence '\\s'\n",
      "/tmp/ipykernel_10817/3227164862.py:5: SyntaxWarning: invalid escape sequence '\\s'\n",
      "  sep='\\s+', header=None, error_bad_lines=False, warn_bad_lines=False,\n"
     ]
    },
    {
     "ename": "TypeError",
     "evalue": "read_csv() got an unexpected keyword argument 'error_bad_lines'",
     "output_type": "error",
     "traceback": [
      "\u001b[0;31m---------------------------------------------------------------------------\u001b[0m",
      "\u001b[0;31mTypeError\u001b[0m                                 Traceback (most recent call last)",
      "Cell \u001b[0;32mIn[5], line 4\u001b[0m\n\u001b[1;32m      1\u001b[0m \u001b[38;5;28;01mimport\u001b[39;00m \u001b[38;5;21;01mpandas\u001b[39;00m \u001b[38;5;28;01mas\u001b[39;00m \u001b[38;5;21;01mpd\u001b[39;00m\n\u001b[1;32m      3\u001b[0m \u001b[38;5;66;03m# some lines have too many fields (?), so skip bad lines\u001b[39;00m\n\u001b[0;32m----> 4\u001b[0m imgatt \u001b[38;5;241m=\u001b[39m pd\u001b[38;5;241m.\u001b[39mread_csv(\u001b[38;5;124m\"\u001b[39m\u001b[38;5;124mdata/CUB_200_2011/attributes/image_attribute_labels.txt\u001b[39m\u001b[38;5;124m\"\u001b[39m,\n\u001b[1;32m      5\u001b[0m                      sep\u001b[38;5;241m=\u001b[39m\u001b[38;5;124m'\u001b[39m\u001b[38;5;124m\\\u001b[39m\u001b[38;5;124ms+\u001b[39m\u001b[38;5;124m'\u001b[39m, header\u001b[38;5;241m=\u001b[39m\u001b[38;5;28;01mNone\u001b[39;00m, error_bad_lines\u001b[38;5;241m=\u001b[39m\u001b[38;5;28;01mFalse\u001b[39;00m, warn_bad_lines\u001b[38;5;241m=\u001b[39m\u001b[38;5;28;01mFalse\u001b[39;00m,\n\u001b[1;32m      6\u001b[0m                      usecols\u001b[38;5;241m=\u001b[39m[\u001b[38;5;241m0\u001b[39m,\u001b[38;5;241m1\u001b[39m,\u001b[38;5;241m2\u001b[39m], names\u001b[38;5;241m=\u001b[39m[\u001b[38;5;124m'\u001b[39m\u001b[38;5;124mimgid\u001b[39m\u001b[38;5;124m'\u001b[39m, \u001b[38;5;124m'\u001b[39m\u001b[38;5;124mattid\u001b[39m\u001b[38;5;124m'\u001b[39m, \u001b[38;5;124m'\u001b[39m\u001b[38;5;124mpresent\u001b[39m\u001b[38;5;124m'\u001b[39m])\n",
      "\u001b[0;31mTypeError\u001b[0m: read_csv() got an unexpected keyword argument 'error_bad_lines'"
     ]
    }
   ],
   "source": [
    "import pandas as pd\n",
    "\n",
    "# some lines have too many fields (?), so skip bad lines\n",
    "imgatt = pd.read_csv(\"data/CUB_200_2011/attributes/image_attribute_labels.txt\",\n",
    "                     sep='\\s+', header=None, on_bad_lines=False, warn_bad_lines=False,\n",
    "                     usecols=[0,1,2], names=['imgid', 'attid', 'present'])\n",
    "\n",
    "# description from dataset README:\n",
    "# \n",
    "# The set of attribute labels as perceived by MTurkers for each image\n",
    "# is contained in the file attributes/image_attribute_labels.txt, with\n",
    "# each line corresponding to one image/attribute/worker triplet:\n",
    "#\n",
    "# <image_id> <attribute_id> <is_present> <certainty_id> <time>\n",
    "#\n",
    "# where <image_id>, <attribute_id>, <certainty_id> correspond to the IDs\n",
    "# in images.txt, attributes/attributes.txt, and attributes/certainties.txt\n",
    "# respectively.  <is_present> is 0 or 1 (1 denotes that the attribute is\n",
    "# present).  <time> denotes the time spent by the MTurker in seconds."
   ]
  },
  {
   "cell_type": "code",
   "execution_count": null,
   "id": "a3a56ebd-d812-43b0-a6c6-43df9dc7e3b1",
   "metadata": {},
   "outputs": [],
   "source": []
  }
 ],
 "metadata": {
  "kernelspec": {
   "display_name": "Python 3 (ipykernel)",
   "language": "python",
   "name": "python3"
  },
  "language_info": {
   "codemirror_mode": {
    "name": "ipython",
    "version": 3
   },
   "file_extension": ".py",
   "mimetype": "text/x-python",
   "name": "python",
   "nbconvert_exporter": "python",
   "pygments_lexer": "ipython3",
   "version": "3.12.7"
  }
 },
 "nbformat": 4,
 "nbformat_minor": 5
}
